{
 "cells": [
  {
   "cell_type": "code",
   "execution_count": 6,
   "id": "9f28574a",
   "metadata": {
    "scrolled": true
   },
   "outputs": [],
   "source": [
    "import matplotlib.pyplot as plt\n",
    "import numpy as np\n",
    "import torch"
   ]
  },
  {
   "cell_type": "markdown",
   "id": "3211e095",
   "metadata": {},
   "source": [
    "an encoder, which takes the 2-d inputs and produces a 1-dimensional z via a weighted sum plus a bias. The\n",
    "encoder weights will be a 1-by-2 tensor and the encoder bias will be a 1-by-1 tensor.\n",
    "\n",
    "• a decoder, which just does the reverse: it takes that 1-dim z and produces a 2-dim output via a weighting of\n",
    "z plus a bias (see the equation in the figure). (Note: decoding is not to be confused with the torch’s backward()\n",
    "operation that propagates gradients! This is a still ”forwards” transformation).\n",
    "\n",
    "• a loss function, which should be the mean squared error (MSE) between x and its reconstruction, averaged\n",
    "over the data set.\n",
    "\n",
    "By using autograd (.backward()) and optimising the MSE loss, you will learn the values of the weights and biases\n",
    "in the encoder, and the decoder (i.e. 3 parameters in the encoder and 4 in the decoder). For each run of learning,\n",
    "start from random weights and biases, such as:\n"
   ]
  },
  {
   "cell_type": "code",
   "execution_count": 7,
   "id": "b05581b8",
   "metadata": {},
   "outputs": [],
   "source": [
    "wEncoder = torch.randn(D,1, requires_grad=True)\n",
    "wDecoder = torch.randn(1,D, requires_grad=True)\n",
    "bEncoder = torch.randn(1, requires_grad=True)\n",
    "bDecoder = torch.randn(1,D, requires_grad=True)"
   ]
  },
  {
   "cell_type": "markdown",
   "id": "24c8cd42",
   "metadata": {},
   "source": [
    "Requirements\n",
    "1. Use SGD, learning rate 0.01, no momentum, and 1000 steps (from a random start).\n",
    "    • Plot the loss versus epochs (steps).\n",
    "    • All on the same axes of one scatterplot, show (i) the original data in some light colour like ‘cyan‘, \n",
    "                                                    (ii) the reconstructed data in a different colour, and (iii) a line from the origin to vector formed by the two learned encoder weights. Perhaps something like...\n",
    "            plt.scatter(x[:,0],x[:,1],color=’cyan’);\n",
    "            plt.scatter(x_reconstruction.detach()[:,0],x_reconstruction.detach()[:,1]);\n",
    "            plt.plot([0,wEncoder[0,0]], [0,wEncoder[1,0]],’-r’);\n",
    "            plt.axis(’equal’)\n",
    "    • print out the ratio of the weight in the encoder versus the weight in the decoder, for each of the two\n",
    "dimensions.\n",
    "2. Now add momentum (say 0.9) and do the same (from a random start).\n",
    "3. Switch to RMSprop (with momentum 0.9 and a random start) and do the same.\n",
    "4. In a text cell of the notebook, write a couple of concise paragraphs, interpreting what you found."
   ]
  },
  {
   "cell_type": "code",
   "execution_count": 8,
   "id": "261c175f",
   "metadata": {},
   "outputs": [
    {
     "name": "stdout",
     "output_type": "stream",
     "text": [
      "tensor([[1.6598, 1.7740],\n",
      "        [1.2147, 1.0764],\n",
      "        [1.2096, 1.1302],\n",
      "        [1.3266, 1.0310],\n",
      "        [1.0027, 0.9998],\n",
      "        [0.7485, 0.8707],\n",
      "        [0.3699, 0.4888],\n",
      "        [0.4615, 0.4938],\n",
      "        [0.8153, 0.8595],\n",
      "        [0.7738, 0.8514],\n",
      "        [1.2300, 0.9309],\n",
      "        [1.5266, 1.3877],\n",
      "        [0.2506, 0.1644],\n",
      "        [0.7914, 0.5390],\n",
      "        [1.8036, 1.8123],\n",
      "        [0.6254, 0.7365],\n",
      "        [0.6705, 0.3963],\n",
      "        [1.1030, 1.2104],\n",
      "        [0.9933, 0.5888],\n",
      "        [1.3294, 1.1020],\n",
      "        [1.0926, 1.4379],\n",
      "        [0.7814, 1.1592],\n",
      "        [1.1067, 1.5062],\n",
      "        [1.2353, 1.0036],\n",
      "        [1.2316, 1.3467],\n",
      "        [0.8983, 0.9971],\n",
      "        [1.4661, 1.4719],\n",
      "        [1.5992, 1.5370],\n",
      "        [0.4104, 0.3242],\n",
      "        [0.7184, 0.7424],\n",
      "        [0.9702, 0.6283],\n",
      "        [1.0320, 1.0675],\n",
      "        [0.8352, 0.6794],\n",
      "        [0.2618, 0.1801],\n",
      "        [1.4006, 1.3996],\n",
      "        [1.3445, 1.6432],\n",
      "        [0.5854, 0.3147],\n",
      "        [0.8440, 0.8035],\n",
      "        [1.6051, 1.5227],\n",
      "        [0.5681, 0.4484],\n",
      "        [0.5885, 0.7291],\n",
      "        [0.1956, 0.1848],\n",
      "        [1.2523, 1.5046],\n",
      "        [1.2952, 1.6000],\n",
      "        [1.5900, 1.6738],\n",
      "        [0.3843, 0.2137],\n",
      "        [1.3012, 1.2168],\n",
      "        [1.2997, 1.6007],\n",
      "        [1.1931, 1.3232],\n",
      "        [1.0791, 0.8736],\n",
      "        [1.4782, 1.6597],\n",
      "        [0.9242, 0.6864],\n",
      "        [1.3963, 1.2844],\n",
      "        [1.0858, 0.8648],\n",
      "        [1.4493, 1.6785],\n",
      "        [1.7584, 1.6697],\n",
      "        [1.4088, 1.5905],\n",
      "        [0.7204, 0.4109],\n",
      "        [0.9672, 0.8370],\n",
      "        [1.4687, 1.2174],\n",
      "        [1.2775, 1.1575],\n",
      "        [0.7421, 0.5273],\n",
      "        [0.2787, 0.3331],\n",
      "        [0.5945, 0.7068],\n",
      "        [0.5072, 0.5204],\n",
      "        [1.2815, 0.9925],\n",
      "        [1.8471, 1.7808],\n",
      "        [0.8331, 0.8599],\n",
      "        [1.2064, 0.8625],\n",
      "        [1.2462, 1.5554],\n",
      "        [1.1570, 1.1617],\n",
      "        [0.9938, 0.8981],\n",
      "        [0.6075, 0.3152],\n",
      "        [0.8986, 0.7321],\n",
      "        [0.8879, 0.9123],\n",
      "        [0.3690, 0.5369],\n",
      "        [1.1875, 1.3721],\n",
      "        [1.0286, 0.9411],\n",
      "        [1.1101, 0.8663],\n",
      "        [0.3951, 0.3396],\n",
      "        [0.9614, 1.3130],\n",
      "        [0.5527, 0.6496],\n",
      "        [0.7314, 0.6194],\n",
      "        [0.9245, 1.0010],\n",
      "        [0.2124, 0.1515],\n",
      "        [0.6201, 0.7371],\n",
      "        [0.7762, 0.9441],\n",
      "        [0.5952, 0.8430],\n",
      "        [1.8439, 1.8065],\n",
      "        [1.1994, 0.9315],\n",
      "        [0.6110, 0.7846],\n",
      "        [1.0055, 1.2717],\n",
      "        [0.8386, 1.1294],\n",
      "        [0.5749, 0.6930],\n",
      "        [0.9980, 1.0645],\n",
      "        [0.4828, 0.3933],\n",
      "        [1.3996, 1.1893],\n",
      "        [0.6514, 0.3974],\n",
      "        [0.3541, 0.4557],\n",
      "        [0.8206, 0.9372]])\n"
     ]
    },
    {
     "data": {
      "image/png": "[encoded data removed]",
      "text/plain": [
       "<Figure size 432x288 with 1 Axes>"
      ]
     },
     "metadata": {
      "needs_background": "light"
     },
     "output_type": "display_data"
    }
   ],
   "source": [
    "# set up\n",
    "torch.manual_seed(309)\n",
    "np.random.seed(309)\n",
    "\n",
    "# make up some data for x\n",
    "D = 2\n",
    "x= torch.rand(100,D)\n",
    "x[:,0] = x[:,0] + x[:,1]\n",
    "x[:,1] = 0.5*x[:,0] + x[:,1]\n",
    "plt.scatter(x[:,0],x[:,1])\n",
    "plt.axis('equal')\n",
    "print(x)"
   ]
  },
  {
   "cell_type": "code",
   "execution_count": 10,
   "id": "ab1c65e8",
   "metadata": {},
   "outputs": [],
   "source": [
    "# encoder thingy\n",
    "class Autoencoder(torch.nn.Module):   \n",
    "    def __init__(self):\n",
    "        super().__init__()    \n",
    "        # Applies a linear transformation to the incoming data: \n",
    "        # w/o additive bias\n",
    "        self.encoder = torch.nn.Linear(1*2, 1, False) \n",
    "        self.decoder = torch.nn.Linear(1, 1*2, False)\n",
    "        \n",
    "    def forward(self, x):\n",
    "        en = self.encoder(x)\n",
    "        de = self.decoder(en)\n",
    "        return de"
   ]
  },
  {
   "cell_type": "code",
   "execution_count": 13,
   "id": "3dd6c001",
   "metadata": {},
   "outputs": [],
   "source": [
    "# set up model\n",
    "LEARNING_RATE = 0.01\n",
    "\n",
    "wEncoder = torch.randn(D,1, requires_grad=True)\n",
    "wDecoder = torch.randn(1,D, requires_grad=True)\n",
    "bEncoder = torch.randn(1, requires_grad=True)\n",
    "bDecoder = torch.randn(1,D, requires_grad=True)\n",
    "\n",
    "model = Autoencoder()\n",
    "model.encoder.weight = torch.nn.Parameter(wEncoder)\n",
    "model.decoder.weight = torch.nn.Parameter(wDecoder)\n",
    "model.encoder.bias   = torch.nn.Parameter(bEncoder[0])\n",
    "model.decoder.bias   = torch.nn.Parameter(bDecoder[0])\n",
    "\n",
    "sgd = torch.optim.SGD(model.parameters(), lr=LEARNING_RATE)\n",
    "    "
   ]
  },
  {
   "cell_type": "code",
   "execution_count": 14,
   "id": "84109714",
   "metadata": {},
   "outputs": [
    {
     "ename": "RuntimeError",
     "evalue": "mat1 and mat2 shapes cannot be multiplied (100x2 and 1x2)",
     "output_type": "error",
     "traceback": [
      "\u001b[1;31m---------------------------------------------------------------------------\u001b[0m",
      "\u001b[1;31mRuntimeError\u001b[0m                              Traceback (most recent call last)",
      "Input \u001b[1;32mIn [14]\u001b[0m, in \u001b[0;36m<cell line: 6>\u001b[1;34m()\u001b[0m\n\u001b[0;32m      4\u001b[0m loss_history    \u001b[38;5;241m=\u001b[39m []\n\u001b[0;32m      6\u001b[0m \u001b[38;5;28;01mfor\u001b[39;00m epoch \u001b[38;5;129;01min\u001b[39;00m \u001b[38;5;28mrange\u001b[39m(N):\n\u001b[1;32m----> 7\u001b[0m     reconstruction \u001b[38;5;241m=\u001b[39m \u001b[43mmodel\u001b[49m\u001b[38;5;241;43m.\u001b[39;49m\u001b[43mforward\u001b[49m\u001b[43m(\u001b[49m\u001b[43mx\u001b[49m\u001b[43m)\u001b[49m\n\u001b[0;32m      8\u001b[0m     thisEpochsLoss \u001b[38;5;241m=\u001b[39m torch\u001b[38;5;241m.\u001b[39mnn\u001b[38;5;241m.\u001b[39mMSELoss(reconstruction, x)\n\u001b[0;32m     10\u001b[0m     sgd\u001b[38;5;241m.\u001b[39mzero_grad() \n",
      "Input \u001b[1;32mIn [10]\u001b[0m, in \u001b[0;36mAutoencoder.forward\u001b[1;34m(self, x)\u001b[0m\n\u001b[0;32m     10\u001b[0m \u001b[38;5;28;01mdef\u001b[39;00m \u001b[38;5;21mforward\u001b[39m(\u001b[38;5;28mself\u001b[39m, x):\n\u001b[1;32m---> 11\u001b[0m     en \u001b[38;5;241m=\u001b[39m \u001b[38;5;28;43mself\u001b[39;49m\u001b[38;5;241;43m.\u001b[39;49m\u001b[43mencoder\u001b[49m\u001b[43m(\u001b[49m\u001b[43mx\u001b[49m\u001b[43m)\u001b[49m\n\u001b[0;32m     12\u001b[0m     de \u001b[38;5;241m=\u001b[39m \u001b[38;5;28mself\u001b[39m\u001b[38;5;241m.\u001b[39mdecoder(en)\n\u001b[0;32m     13\u001b[0m     \u001b[38;5;28;01mreturn\u001b[39;00m de\n",
      "File \u001b[1;32m~\\anaconda3\\lib\\site-packages\\torch\\nn\\modules\\module.py:1130\u001b[0m, in \u001b[0;36mModule._call_impl\u001b[1;34m(self, *input, **kwargs)\u001b[0m\n\u001b[0;32m   1126\u001b[0m \u001b[38;5;66;03m# If we don't have any hooks, we want to skip the rest of the logic in\u001b[39;00m\n\u001b[0;32m   1127\u001b[0m \u001b[38;5;66;03m# this function, and just call forward.\u001b[39;00m\n\u001b[0;32m   1128\u001b[0m \u001b[38;5;28;01mif\u001b[39;00m \u001b[38;5;129;01mnot\u001b[39;00m (\u001b[38;5;28mself\u001b[39m\u001b[38;5;241m.\u001b[39m_backward_hooks \u001b[38;5;129;01mor\u001b[39;00m \u001b[38;5;28mself\u001b[39m\u001b[38;5;241m.\u001b[39m_forward_hooks \u001b[38;5;129;01mor\u001b[39;00m \u001b[38;5;28mself\u001b[39m\u001b[38;5;241m.\u001b[39m_forward_pre_hooks \u001b[38;5;129;01mor\u001b[39;00m _global_backward_hooks\n\u001b[0;32m   1129\u001b[0m         \u001b[38;5;129;01mor\u001b[39;00m _global_forward_hooks \u001b[38;5;129;01mor\u001b[39;00m _global_forward_pre_hooks):\n\u001b[1;32m-> 1130\u001b[0m     \u001b[38;5;28;01mreturn\u001b[39;00m forward_call(\u001b[38;5;241m*\u001b[39m\u001b[38;5;28minput\u001b[39m, \u001b[38;5;241m*\u001b[39m\u001b[38;5;241m*\u001b[39mkwargs)\n\u001b[0;32m   1131\u001b[0m \u001b[38;5;66;03m# Do not call functions when jit is used\u001b[39;00m\n\u001b[0;32m   1132\u001b[0m full_backward_hooks, non_full_backward_hooks \u001b[38;5;241m=\u001b[39m [], []\n",
      "File \u001b[1;32m~\\anaconda3\\lib\\site-packages\\torch\\nn\\modules\\linear.py:114\u001b[0m, in \u001b[0;36mLinear.forward\u001b[1;34m(self, input)\u001b[0m\n\u001b[0;32m    113\u001b[0m \u001b[38;5;28;01mdef\u001b[39;00m \u001b[38;5;21mforward\u001b[39m(\u001b[38;5;28mself\u001b[39m, \u001b[38;5;28minput\u001b[39m: Tensor) \u001b[38;5;241m-\u001b[39m\u001b[38;5;241m>\u001b[39m Tensor:\n\u001b[1;32m--> 114\u001b[0m     \u001b[38;5;28;01mreturn\u001b[39;00m \u001b[43mF\u001b[49m\u001b[38;5;241;43m.\u001b[39;49m\u001b[43mlinear\u001b[49m\u001b[43m(\u001b[49m\u001b[38;5;28;43minput\u001b[39;49m\u001b[43m,\u001b[49m\u001b[43m \u001b[49m\u001b[38;5;28;43mself\u001b[39;49m\u001b[38;5;241;43m.\u001b[39;49m\u001b[43mweight\u001b[49m\u001b[43m,\u001b[49m\u001b[43m \u001b[49m\u001b[38;5;28;43mself\u001b[39;49m\u001b[38;5;241;43m.\u001b[39;49m\u001b[43mbias\u001b[49m\u001b[43m)\u001b[49m\n",
      "\u001b[1;31mRuntimeError\u001b[0m: mat1 and mat2 shapes cannot be multiplied (100x2 and 1x2)"
     ]
    }
   ],
   "source": [
    "N = 1000\n",
    "epoch = 0\n",
    "x_reconstructed = []\n",
    "loss_history    = []\n",
    "\n",
    "for epoch in range(N):\n",
    "    reconstruction = model.forward(x)\n",
    "    thisEpochsLoss = torch.nn.MSELoss(reconstruction, x)\n",
    "\n",
    "    sgd.zero_grad() \n",
    "    thisEpochsLoss.backward() \n",
    "    sgd.step()    \n",
    "\n",
    "    # if last epoch\n",
    "    if (epoch == N-1): x_reconstructed.append(reconstruction.detach())\n",
    "    loss_history.append(loss.item())\n",
    "wEncoder = model.encoder.weight\n",
    "wDecoder = model.decoder.weight\n",
    "weightRatio = wEn[0]/wDe[0]\n",
    "\n",
    "print(\"W0_Ratio:\"  , round(weightRatio[0].item(), 3), \n",
    "      \"\\nW1_Ratio:\", round(weightRatio[1].item(), 3), \"\\n\")\n"
   ]
  },
  {
   "cell_type": "code",
   "execution_count": null,
   "id": "c080569a",
   "metadata": {},
   "outputs": [],
   "source": [
    "fig, ax = plt.subplots(1,2, figsize=(20, 8), dpi=80)\n",
    "plt.tight_layout(pad = 8.0)\n",
    "\n",
    "ax[0].scatter(x[:,0], x[:,1], s=6.5, color='cyan');          #Original\n",
    "ax[0].scatter(x_recons[0][:,0], x_recons[0][:,1], s=6.5) #Reconstructed\n",
    "ax[0].plot([0,wEncoder.T.detach()[0,0]], [0,wEncoder.T.detach()[1,0]],'-r') #Initial encoder wgt\n",
    "\n",
    "ax[0].set(title = 'Original vs Reconstruction', xlabel = 'x', ylabel = 'y')\n",
    "ax[0].axis('equal')\n",
    "\n",
    "ax[1].plot(losses) #Loss overtime\n",
    "ax[1].set(title = 'Loss vs Epochs(steps)', xlabel = 'Epochs', ylabel = 'Loss')\n",
    "\n",
    "plt.show()          "
   ]
  }
 ],
 "metadata": {
  "kernelspec": {
   "display_name": "Python 3 (ipykernel)",
   "language": "python",
   "name": "python3"
  },
  "language_info": {
   "codemirror_mode": {
    "name": "ipython",
    "version": 3
   },
   "file_extension": ".py",
   "mimetype": "text/x-python",
   "name": "python",
   "nbconvert_exporter": "python",
   "pygments_lexer": "ipython3",
   "version": "3.9.12"
  }
 },
 "nbformat": 4,
 "nbformat_minor": 5
}
