{
 "cells": [
  {
   "cell_type": "markdown",
   "id": "6fee611d",
   "metadata": {},
   "source": [
    "# Assignment 2\n",
    "\n",
    "## 2.1 EDA\n",
    "(1) Perform an initial EDA on the given data to gain an understanding of the data. The analyses\n",
    "should explore the data from four different aspects including:\n",
    "\n",
    "(a) Describe the summary statistics about the data including number of instances, number of features, how\n",
    "many categorical and numerical features, respectively\n",
    "\n",
    "(b) Find the top 5 numerical features highly correlated with the target variable (“SalePrice”) according to\n",
    "the pearson correlation, report the correlation values.\n",
    "\n",
    "(c) Plot the distributions of these 5 numerical features found in the previous question and the target variable\n",
    "using histograms with 10 bins, one for each feature/variable, describe the shape of their distributions with\n",
    "skewness and kurtosis (use Scipy for obtaining skewness and kurtosis values if you cannot do it in Orange),\n",
    "and tell two patterns from the histograms accordingly\n",
    "\n",
    "(d) Check for missing values. Is there any missing values in the data? Write a paragraph to briefly summarise\n",
    "the missing information regarding how many features contain missing values and at what percent.\n",
    "\n",
    "Provide answers to these four questions. Show how you get the answers in your code (if you use python)/workflow\n",
    "(if you use orange). Report your EDA methods and results in the report."
   ]
  },
  {
   "cell_type": "code",
   "execution_count": 12,
   "id": "5fb866fe",
   "metadata": {},
   "outputs": [],
   "source": [
    "# importing pandas, and other necessary modules\n",
    "import pandas as pd\n",
    "import matplotlib.pyplot as plt\n",
    "import seaborn as sns \n",
    "import numpy as np\n",
    "import scipy as sp\n",
    "\n",
    "# load data set\n",
    "df = pd.read_csv(\"House_Price.csv\", header = 0)"
   ]
  },
  {
   "cell_type": "markdown",
   "id": "ebdcf168",
   "metadata": {},
   "source": [
    "### Part 1 - Task 1 (a) \n",
    "\n",
    "**Describe the summary statistics about the data including number of instances, number of features, how many categorical and numerical features, respectively.**\n",
    "\n",
    "The data set contains 79 different features, plus an id and the SalesPrice variable, which is what this is meant to find. There are 1460 instances. There are a total of 38 numerical and 43 categorical features."
   ]
  },
  {
   "cell_type": "code",
   "execution_count": 25,
   "id": "0ed90c80",
   "metadata": {},
   "outputs": [
    {
     "name": "stdout",
     "output_type": "stream",
     "text": [
      "Information on Variables\n",
      "<class 'pandas.core.frame.DataFrame'>\n",
      "RangeIndex: 1460 entries, 0 to 1459\n",
      "Data columns (total 81 columns):\n",
      " #   Column         Non-Null Count  Dtype  \n",
      "---  ------         --------------  -----  \n",
      " 0   Id             1460 non-null   int64  \n",
      " 1   MSSubClass     1460 non-null   int64  \n",
      " 2   MSZoning       1460 non-null   object \n",
      " 3   LotFrontage    1201 non-null   float64\n",
      " 4   LotArea        1460 non-null   int64  \n",
      " 5   Street         1460 non-null   object \n",
      " 6   Alley          91 non-null     object \n",
      " 7   LotShape       1460 non-null   object \n",
      " 8   LandContour    1460 non-null   object \n",
      " 9   Utilities      1460 non-null   object \n",
      " 10  LotConfig      1460 non-null   object \n",
      " 11  LandSlope      1460 non-null   object \n",
      " 12  Neighborhood   1460 non-null   object \n",
      " 13  Condition1     1460 non-null   object \n",
      " 14  Condition2     1460 non-null   object \n",
      " 15  BldgType       1460 non-null   object \n",
      " 16  HouseStyle     1460 non-null   object \n",
      " 17  OverallQual    1460 non-null   int64  \n",
      " 18  OverallCond    1460 non-null   int64  \n",
      " 19  YearBuilt      1460 non-null   int64  \n",
      " 20  YearRemodAdd   1460 non-null   int64  \n",
      " 21  RoofStyle      1460 non-null   object \n",
      " 22  RoofMatl       1460 non-null   object \n",
      " 23  Exterior1st    1460 non-null   object \n",
      " 24  Exterior2nd    1460 non-null   object \n",
      " 25  MasVnrType     1452 non-null   object \n",
      " 26  MasVnrArea     1452 non-null   float64\n",
      " 27  ExterQual      1460 non-null   object \n",
      " 28  ExterCond      1460 non-null   object \n",
      " 29  Foundation     1460 non-null   object \n",
      " 30  BsmtQual       1423 non-null   object \n",
      " 31  BsmtCond       1423 non-null   object \n",
      " 32  BsmtExposure   1422 non-null   object \n",
      " 33  BsmtFinType1   1423 non-null   object \n",
      " 34  BsmtFinSF1     1460 non-null   int64  \n",
      " 35  BsmtFinType2   1422 non-null   object \n",
      " 36  BsmtFinSF2     1460 non-null   int64  \n",
      " 37  BsmtUnfSF      1460 non-null   int64  \n",
      " 38  TotalBsmtSF    1460 non-null   int64  \n",
      " 39  Heating        1460 non-null   object \n",
      " 40  HeatingQC      1460 non-null   object \n",
      " 41  CentralAir     1460 non-null   object \n",
      " 42  Electrical     1459 non-null   object \n",
      " 43  1stFlrSF       1460 non-null   int64  \n",
      " 44  2ndFlrSF       1460 non-null   int64  \n",
      " 45  LowQualFinSF   1460 non-null   int64  \n",
      " 46  GrLivArea      1460 non-null   int64  \n",
      " 47  BsmtFullBath   1460 non-null   int64  \n",
      " 48  BsmtHalfBath   1460 non-null   int64  \n",
      " 49  FullBath       1460 non-null   int64  \n",
      " 50  HalfBath       1460 non-null   int64  \n",
      " 51  BedroomAbvGr   1460 non-null   int64  \n",
      " 52  KitchenAbvGr   1460 non-null   int64  \n",
      " 53  KitchenQual    1460 non-null   object \n",
      " 54  TotRmsAbvGrd   1460 non-null   int64  \n",
      " 55  Functional     1460 non-null   object \n",
      " 56  Fireplaces     1460 non-null   int64  \n",
      " 57  FireplaceQu    770 non-null    object \n",
      " 58  GarageType     1379 non-null   object \n",
      " 59  GarageYrBlt    1379 non-null   float64\n",
      " 60  GarageFinish   1379 non-null   object \n",
      " 61  GarageCars     1460 non-null   int64  \n",
      " 62  GarageArea     1460 non-null   int64  \n",
      " 63  GarageQual     1379 non-null   object \n",
      " 64  GarageCond     1379 non-null   object \n",
      " 65  PavedDrive     1460 non-null   object \n",
      " 66  WoodDeckSF     1460 non-null   int64  \n",
      " 67  OpenPorchSF    1460 non-null   int64  \n",
      " 68  EnclosedPorch  1460 non-null   int64  \n",
      " 69  3SsnPorch      1460 non-null   int64  \n",
      " 70  ScreenPorch    1460 non-null   int64  \n",
      " 71  PoolArea       1460 non-null   int64  \n",
      " 72  PoolQC         7 non-null      object \n",
      " 73  Fence          281 non-null    object \n",
      " 74  MiscFeature    54 non-null     object \n",
      " 75  MiscVal        1460 non-null   int64  \n",
      " 76  MoSold         1460 non-null   int64  \n",
      " 77  YrSold         1460 non-null   int64  \n",
      " 78  SaleType       1460 non-null   object \n",
      " 79  SaleCondition  1460 non-null   object \n",
      " 80  SalePrice      1460 non-null   int64  \n",
      "dtypes: float64(3), int64(35), object(43)\n",
      "memory usage: 924.0+ KB\n"
     ]
    }
   ],
   "source": [
    "print(\"Information on Variables\")\n",
    "df.info()"
   ]
  },
  {
   "cell_type": "markdown",
   "id": "5b2e529a",
   "metadata": {},
   "source": [
    "### Part 2 - Task 1 (b)\n",
    "\n",
    "**Find the top 5 numerical features highly correlated with the target variable (“SalePrice”) according to the pearson correlation, report the correlation values.**\n",
    "\n",
    "The top five values are the following, all of which are numerical:\n",
    "1. OverallQual      0.790982\n",
    "2. GrLivArea        0.708624\n",
    "3. GarageCars       0.640409\n",
    "4. GarageArea       0.623431\n",
    "5. TotalBsmtSF      0.613581"
   ]
  },
  {
   "cell_type": "code",
   "execution_count": 4,
   "id": "c699885e",
   "metadata": {},
   "outputs": [
    {
     "data": {
      "text/plain": [
       "BsmtFinSF2       0.011378\n",
       "BsmtHalfBath     0.016844\n",
       "MiscVal          0.021190\n",
       "Id               0.021917\n",
       "LowQualFinSF     0.025606\n",
       "YrSold           0.028923\n",
       "3SsnPorch        0.044584\n",
       "MoSold           0.046432\n",
       "OverallCond      0.077856\n",
       "MSSubClass       0.084284\n",
       "PoolArea         0.092404\n",
       "ScreenPorch      0.111447\n",
       "EnclosedPorch    0.128578\n",
       "KitchebvGr       0.135907\n",
       "BedroomAbvGr     0.168213\n",
       "BsmtUnfSF        0.214479\n",
       "BsmtFullBath     0.227122\n",
       "LotArea          0.263843\n",
       "HalfBath         0.284108\n",
       "OpenPorchSF      0.315856\n",
       "2ndFlrSF         0.319334\n",
       "WoodDeckSF       0.324413\n",
       "LotFrontage      0.351799\n",
       "BsmtFinSF1       0.386420\n",
       "Fireplaces       0.466929\n",
       "MasVnrArea       0.477493\n",
       "GarageYrBlt      0.486362\n",
       "YearRemodAdd     0.507101\n",
       "YearBuilt        0.522897\n",
       "TotRmsAbvGrd     0.533723\n",
       "FullBath         0.560664\n",
       "1stFlrSF         0.605852\n",
       "TotalBsmtSF      0.613581\n",
       "GarageArea       0.623431\n",
       "GarageCars       0.640409\n",
       "GrLivArea        0.708624\n",
       "OverallQual      0.790982\n",
       "SalePrice        1.000000\n",
       "dtype: float64"
      ]
     },
     "execution_count": 4,
     "metadata": {},
     "output_type": "execute_result"
    }
   ],
   "source": [
    "df.corrwith(df['SalePrice']).abs().sort_values()"
   ]
  },
  {
   "cell_type": "markdown",
   "id": "e7ee8271",
   "metadata": {},
   "source": [
    "### Part 1 - Task 1 (c)\n",
    "\n",
    "**Plot the distributions of these 5 numerical features found in the previous question and the target variable using histograms with 10 bins, one for each feature/variable, describe the shape of their distributions with skewness and kurtosis (use Scipy for obtaining skewness and kurtosis values if you cannot do it in Orange), and tell two patterns from the histograms accordingly.**\n",
    "\n",
    "The SalePrice is skewed to the left (1.880940746034036), like TotalBsmtSF (1.522688086978629) and GrLivArea (1.365155954773434). Most kurtosis values are around 3, but the SalePrice is 9.509812011089439; the closest is GrLivArea at 7.874265760253215, meaning that GrLivArea is closest related to SalePrice.\n"
   ]
  },
  {
   "cell_type": "code",
   "execution_count": 5,
   "id": "36b91325",
   "metadata": {},
   "outputs": [
    {
     "name": "stdout",
     "output_type": "stream",
     "text": [
      "\n",
      " OverallQual\n"
     ]
    },
    {
     "data": {
      "image/png": "[encoded data removed]",
      "text/plain": [
       "<Figure size 432x288 with 1 Axes>"
      ]
     },
     "metadata": {
      "needs_background": "light"
     },
     "output_type": "display_data"
    },
    {
     "name": "stdout",
     "output_type": "stream",
     "text": [
      "Skewness:  0.2167209765258641\n",
      "Kurtosis:  3.091856548449611\n",
      "\n",
      " GrLivArea\n"
     ]
    },
    {
     "data": {
      "image/png": "[encoded data removed]",
      "text/plain": [
       "<Figure size 432x288 with 1 Axes>"
      ]
     },
     "metadata": {
      "needs_background": "light"
     },
     "output_type": "display_data"
    },
    {
     "name": "stdout",
     "output_type": "stream",
     "text": [
      "Skewness:  1.365155954773434\n",
      "Kurtosis:  7.874265760253215\n",
      "\n",
      " GarageCars\n"
     ]
    },
    {
     "data": {
      "image/png": "[encoded data removed]",
      "text/plain": [
       "<Figure size 432x288 with 1 Axes>"
      ]
     },
     "metadata": {
      "needs_background": "light"
     },
     "output_type": "display_data"
    },
    {
     "name": "stdout",
     "output_type": "stream",
     "text": [
      "Skewness:  -0.34219689543081294\n",
      "Kurtosis:  3.216134871511073\n",
      "\n",
      " GarageArea\n"
     ]
    },
    {
     "data": {
      "image/png": "[encoded data removed]",
      "text/plain": [
       "<Figure size 432x288 with 1 Axes>"
      ]
     },
     "metadata": {
      "needs_background": "light"
     },
     "output_type": "display_data"
    },
    {
     "name": "stdout",
     "output_type": "stream",
     "text": [
      "Skewness:  0.1797959420587727\n",
      "Kurtosis:  3.9098227950882034\n",
      "\n",
      " TotalBsmtSF\n"
     ]
    },
    {
     "data": {
      "image/png": "[encoded data removed]",
      "text/plain": [
       "<Figure size 432x288 with 1 Axes>"
      ]
     },
     "metadata": {
      "needs_background": "light"
     },
     "output_type": "display_data"
    },
    {
     "name": "stdout",
     "output_type": "stream",
     "text": [
      "Skewness:  1.522688086978629\n",
      "Kurtosis:  16.201041630635025\n",
      "\n",
      " SalePrice\n"
     ]
    },
    {
     "data": {
      "image/png": "[encoded data removed]",
      "text/plain": [
       "<Figure size 432x288 with 1 Axes>"
      ]
     },
     "metadata": {
      "needs_background": "light"
     },
     "output_type": "display_data"
    },
    {
     "name": "stdout",
     "output_type": "stream",
     "text": [
      "Skewness:  1.880940746034036\n",
      "Kurtosis:  9.509812011089439\n"
     ]
    }
   ],
   "source": [
    "names = [ 'OverallQual', 'GrLivArea','GarageCars','GarageArea','TotalBsmtSF', 'SalePrice']\n",
    "\n",
    "for name in names:\n",
    "    val = df[name]\n",
    "    # Plot the distribution\n",
    "    print(\"\\n\", name)\n",
    "    plt.hist((val.abs()))\n",
    "    plt.show()\n",
    "\n",
    "    # Skewness\n",
    "\n",
    "    print(\"Skewness: \", sp.stats.skew(val))\n",
    "\n",
    "    # Kurtosis\n",
    "\n",
    "    print(\"Kurtosis: \", sp.stats.kurtosis(val, fisher=False))\n"
   ]
  },
  {
   "cell_type": "markdown",
   "id": "f53be1cd",
   "metadata": {},
   "source": [
    "### Part 1 - Task 1 (d)\n",
    "\n",
    "**Check for missing values. Is there any missing values in the data? Write a paragraph to briefly summarise the missing information regarding how many features contain missing values and at what percent.**\n",
    "\n",
    "19 features are missing values (which is circa 24% of features), and of those, only 3 (circa 4% of all features and 16% of all features missing values) features are missing less than 1% of values. \n",
    "\n",
    "* LotFrontage:  missing 259 values, at circa 18% missing.\n",
    "* Alley:  missing 1369 values, at circa 94% missing.\n",
    "* MasVnrType: missing 8 values at circa 0.55% missing.\n",
    "* MasVnrArea: missing 8 values at circa 0.55% missing.\n",
    "* BsmtQual: missing 37 values at circa 2.53% missing.\n",
    "* BsmtCond: missing 37 values at circa 2.53% missing.\n",
    "* BsmtExposure: missing 38 values at circa 2.6% missing.\n",
    "* BsmtFinType1: missing 37 values at circa 2.53% missing.\n",
    "* BsmtFinType2: missing 38 values at circa 2.6% missing.\n",
    "* Electrical: missing 1 values at circa 0.07% missing.\n",
    "* FireplaceQu: missing 690 values at circa 47.26% missing.\n",
    "* GarageType: missing 81 values at circa 5.55% missing.\n",
    "* GarageYrBlt: missing 81 values at circa 5.55% missing.\n",
    "* GarageFinish: missing 81 values at circa 5.55% missing.\n",
    "* GarageQual: missing 81 values at circa 5.55% missing.\n",
    "* GarageCond: missing 81 values at circa 5.55% missing.\n",
    "* PoolQC: missing 1453 values at circa 99.52% missing.\n",
    "* Fence: missing 1179 values at circa 80.75% missing.\n",
    "* MiscFeature: missing 1406 values at circa 96.3% missing."
   ]
  },
  {
   "cell_type": "code",
   "execution_count": 6,
   "id": "a23f104f",
   "metadata": {},
   "outputs": [
    {
     "name": "stdout",
     "output_type": "stream",
     "text": [
      "Information on Variables\n",
      "<class 'pandas.core.frame.DataFrame'>\n",
      "RangeIndex: 1460 entries, 0 to 1459\n",
      "Data columns (total 81 columns):\n",
      " #   Column         Non-Null Count  Dtype  \n",
      "---  ------         --------------  -----  \n",
      " 0   Id             1460 non-null   int64  \n",
      " 1   MSSubClass     1460 non-null   int64  \n",
      " 2   MSZoning       1460 non-null   object \n",
      " 3   LotFrontage    1201 non-null   float64\n",
      " 4   LotArea        1460 non-null   int64  \n",
      " 5   Street         1460 non-null   object \n",
      " 6   Alley          91 non-null     object \n",
      " 7   LotShape       1460 non-null   object \n",
      " 8   LandContour    1460 non-null   object \n",
      " 9   Utilities      1460 non-null   object \n",
      " 10  LotConfig      1460 non-null   object \n",
      " 11  LandSlope      1460 non-null   object \n",
      " 12  Neighborhood   1460 non-null   object \n",
      " 13  Condition1     1460 non-null   object \n",
      " 14  Condition2     1460 non-null   object \n",
      " 15  BldgType       1460 non-null   object \n",
      " 16  HouseStyle     1460 non-null   object \n",
      " 17  OverallQual    1460 non-null   int64  \n",
      " 18  OverallCond    1460 non-null   int64  \n",
      " 19  YearBuilt      1460 non-null   int64  \n",
      " 20  YearRemodAdd   1460 non-null   int64  \n",
      " 21  RoofStyle      1460 non-null   object \n",
      " 22  RoofMatl       1460 non-null   object \n",
      " 23  Exterior1st    1460 non-null   object \n",
      " 24  Exterior2nd    1460 non-null   object \n",
      " 25  MasVnrType     1452 non-null   object \n",
      " 26  MasVnrArea     1452 non-null   float64\n",
      " 27  ExterQual      1460 non-null   object \n",
      " 28  ExterCond      1460 non-null   object \n",
      " 29  Foundation     1460 non-null   object \n",
      " 30  BsmtQual       1423 non-null   object \n",
      " 31  BsmtCond       1423 non-null   object \n",
      " 32  BsmtExposure   1422 non-null   object \n",
      " 33  BsmtFinType1   1423 non-null   object \n",
      " 34  BsmtFinSF1     1460 non-null   int64  \n",
      " 35  BsmtFinType2   1422 non-null   object \n",
      " 36  BsmtFinSF2     1460 non-null   int64  \n",
      " 37  BsmtUnfSF      1460 non-null   int64  \n",
      " 38  TotalBsmtSF    1460 non-null   int64  \n",
      " 39  Heating        1460 non-null   object \n",
      " 40  HeatingQC      1460 non-null   object \n",
      " 41  CentralAir     1460 non-null   object \n",
      " 42  Electrical     1459 non-null   object \n",
      " 43  1stFlrSF       1460 non-null   int64  \n",
      " 44  2ndFlrSF       1460 non-null   int64  \n",
      " 45  LowQualFinSF   1460 non-null   int64  \n",
      " 46  GrLivArea      1460 non-null   int64  \n",
      " 47  BsmtFullBath   1460 non-null   int64  \n",
      " 48  BsmtHalfBath   1460 non-null   int64  \n",
      " 49  FullBath       1460 non-null   int64  \n",
      " 50  HalfBath       1460 non-null   int64  \n",
      " 51  BedroomAbvGr   1460 non-null   int64  \n",
      " 52  KitchebvGr     1460 non-null   int64  \n",
      " 53  KitchenQual    1460 non-null   object \n",
      " 54  TotRmsAbvGrd   1460 non-null   int64  \n",
      " 55  Functiol       1460 non-null   object \n",
      " 56  Fireplaces     1460 non-null   int64  \n",
      " 57  FireplaceQu    770 non-null    object \n",
      " 58  GarageType     1379 non-null   object \n",
      " 59  GarageYrBlt    1379 non-null   float64\n",
      " 60  GarageFinish   1379 non-null   object \n",
      " 61  GarageCars     1460 non-null   int64  \n",
      " 62  GarageArea     1460 non-null   int64  \n",
      " 63  GarageQual     1379 non-null   object \n",
      " 64  GarageCond     1379 non-null   object \n",
      " 65  PavedDrive     1460 non-null   object \n",
      " 66  WoodDeckSF     1460 non-null   int64  \n",
      " 67  OpenPorchSF    1460 non-null   int64  \n",
      " 68  EnclosedPorch  1460 non-null   int64  \n",
      " 69  3SsnPorch      1460 non-null   int64  \n",
      " 70  ScreenPorch    1460 non-null   int64  \n",
      " 71  PoolArea       1460 non-null   int64  \n",
      " 72  PoolQC         7 non-null      object \n",
      " 73  Fence          281 non-null    object \n",
      " 74  MiscFeature    54 non-null     object \n",
      " 75  MiscVal        1460 non-null   int64  \n",
      " 76  MoSold         1460 non-null   int64  \n",
      " 77  YrSold         1460 non-null   int64  \n",
      " 78  SaleType       1460 non-null   object \n",
      " 79  SaleCondition  1460 non-null   object \n",
      " 80  SalePrice      1460 non-null   int64  \n",
      "dtypes: float64(3), int64(35), object(43)\n",
      "memory usage: 924.0+ KB\n"
     ]
    }
   ],
   "source": [
    "print(\"Information on Variables\")\n",
    "df.info()"
   ]
  },
  {
   "cell_type": "markdown",
   "id": "fd52d6ee",
   "metadata": {},
   "source": [
    "### Part 1 - Task 2\n",
    "\n",
    "**Investigate the business understanding questions based on your exploration of the data. Two key business understanding questions (or business objectives) are “what factors affect the house price?” and “how do these factors affect the house price?”/“in which way do the factors affect the house price?”**\n",
    "\n",
    "**Translate the two business questions into two data mining goals.**\n",
    "\n",
    "\"What factors affect the house price?\" becomes \"\"By what magnitude does each factor affect the outcome variable (HousePrice)?\"\n",
    "\"How do these factors affect the house price?\"/\"In which way do the factors affect the house price?\" becomes \"How do the features corelate to the outcome? E.g. are they inverse, ...\"\n",
    "\n",
    "**Select two machine learning paradigms, e.g. classification, regression, dimensionality reduction and so forth, that can help you achieve these goals. Provide justifications of your decision.**\n",
    "\n",
    "Given that the outcome needs to be a value, regression is the best answer, as it provides means of directly calculating the predicted price based on the features. However, classification may also work if you classify each house price into a category, for example, a class that contains all house prices including the range of 20000 to 30000, 30001 to 40000 etc.\n",
    "\n",
    "Then, based on the regression algorithm, you can easily uncover the magnitude of influence each feature has, and how they corelate; for example, if you use symbolic regression, you can see that feature x is multiplied by 38.2 while feature y is multiplied by 19.2, meaning x has a greater magnitude. If feature z, for example, is 1/z, it is clearly inversely corelated."
   ]
  },
  {
   "cell_type": "markdown",
   "id": "6c32caaf",
   "metadata": {},
   "source": [
    "### Part 1 - Task 3\n",
    "\n",
    "**EDA using clustering is very useful for understanding the important characteristics of the data. Provide a further EDA on the dataset using Hierarchical clustering on the 5 numerical features found in 1(b) to answer the question — “Does the house prices vary by neighborhood?”. Report the output dendrogram and any other plots and show how do they help you to answer the question.**"
   ]
  },
  {
   "cell_type": "code",
   "execution_count": 4,
   "id": "aad8c24f",
   "metadata": {},
   "outputs": [
    {
     "data": {
      "image/png": "[encoded data removed]",
      "text/plain": [
       "<Figure size 3600x1800 with 1 Axes>"
      ]
     },
     "metadata": {
      "needs_background": "light"
     },
     "output_type": "display_data"
    }
   ],
   "source": [
    "from scipy.cluster.hierarchy import dendrogram, linkage\n",
    "\n",
    "# feature selection\n",
    "\n",
    "selectedData = df[[ 'OverallQual', 'GrLivArea','GarageCars','GarageArea','TotalBsmtSF', 'SalePrice']]\n",
    "\n",
    "Z = linkage(selectedData, 'ward')\n",
    "\n",
    "plt.figure(figsize=(50, 25))\n",
    "dendrogram(Z)\n",
    "plt.show()"
   ]
  },
  {
   "cell_type": "markdown",
   "id": "e25787d9",
   "metadata": {},
   "source": [
    "## 2.2 Data Preparation and Machine Learning\n",
    "\n",
    "**Address the business question of “what factors affect the house price and in which way?” using the provided dataset. Note that for supervised learning, it is important to partition the data before data preparation to avoid data leakage. Before answering the following questions, you need to split the data into a training set and a test set with a 70-30 splitting (use a random state=309).**"
   ]
  },
  {
   "cell_type": "code",
   "execution_count": 229,
   "id": "2f76c892",
   "metadata": {},
   "outputs": [],
   "source": [
    "import numpy as np\n",
    "from sklearn.model_selection import train_test_split\n",
    "\n",
    "# split data set\n",
    "X_train, X_test, y_train, y_test = train_test_split(df.loc[:, df.columns != 'SalePrice'], df['SalePrice'], test_size=0.3, random_state=309)"
   ]
  },
  {
   "cell_type": "markdown",
   "id": "75005942",
   "metadata": {},
   "source": [
    "**Determine and describe the data preprocessing steps applied to the provided dataset, e.g. handle missing data, encoding categorical data, normalise the data if necessary, and/or remove any unnecessary instances, these could be redundant instances, outliers or non-effective instances and so forth. Show the process in your code/workflow. Submit a copy of the processed dataset (in CSV format).**\n"
   ]
  },
  {
   "cell_type": "code",
   "execution_count": 230,
   "id": "aaa8d379",
   "metadata": {},
   "outputs": [
    {
     "name": "stdout",
     "output_type": "stream",
     "text": [
      "Dropped features:  ['LotFrontage', 'Alley', 'MasVnrType', 'MasVnrArea', 'BsmtQual', 'BsmtCond', 'BsmtExposure', 'BsmtFinType1', 'BsmtFinType2', 'Electrical', 'FireplaceQu', 'GarageType', 'GarageYrBlt', 'GarageFinish', 'GarageQual', 'GarageCond', 'PoolQC', 'Fence', 'MiscFeature']\n"
     ]
    }
   ],
   "source": [
    "# handle missing data - delete all features w/ missing data, as per Friday 26/08 helpdesk\n",
    "\n",
    "listL = df.columns\n",
    "listT = []\n",
    "labels = []\n",
    "\n",
    "for label in listL:\n",
    "    if(label != \"SalePrice\" and X_train[label].isnull().sum() != 0) :\n",
    "        X_train = X_train.drop(label, axis=1)\n",
    "        listT.append(label)\n",
    "    else:\n",
    "        labels.append(label)\n",
    "\n",
    "for label in listT:\n",
    "    X_test = X_test.drop(label, axis=1)       \n",
    "    \n",
    "print(\"Dropped features: \", listT)\n",
    "\n"
   ]
  },
  {
   "cell_type": "code",
   "execution_count": 231,
   "id": "ec25f35b",
   "metadata": {},
   "outputs": [],
   "source": [
    "# drop id too\n",
    "X_train = X_train.drop(['Id'], axis=1)\n",
    "X_test = X_test.drop(['Id'], axis=1)\n",
    "\n",
    "# remove duplicates\n",
    "X_train = X_train.drop_duplicates()\n",
    "X_test = X_test.drop_duplicates()"
   ]
  },
  {
   "cell_type": "code",
   "execution_count": 232,
   "id": "a89f5401",
   "metadata": {},
   "outputs": [
    {
     "data": {
      "text/html": [
       "<div>\n",
       "<style scoped>\n",
       "    .dataframe tbody tr th:only-of-type {\n",
       "        vertical-align: middle;\n",
       "    }\n",
       "\n",
       "    .dataframe tbody tr th {\n",
       "        vertical-align: top;\n",
       "    }\n",
       "\n",
       "    .dataframe thead th {\n",
       "        text-align: right;\n",
       "    }\n",
       "</style>\n",
       "<table border=\"1\" class=\"dataframe\">\n",
       "  <thead>\n",
       "    <tr style=\"text-align: right;\">\n",
       "      <th></th>\n",
       "      <th>MSSubClass</th>\n",
       "      <th>LotArea</th>\n",
       "      <th>OverallQual</th>\n",
       "      <th>OverallCond</th>\n",
       "      <th>YearBuilt</th>\n",
       "      <th>YearRemodAdd</th>\n",
       "      <th>BsmtFinSF1</th>\n",
       "      <th>BsmtFinSF2</th>\n",
       "      <th>BsmtUnfSF</th>\n",
       "      <th>TotalBsmtSF</th>\n",
       "      <th>...</th>\n",
       "      <th>SaleType_ConLI</th>\n",
       "      <th>SaleType_ConLw</th>\n",
       "      <th>SaleType_New</th>\n",
       "      <th>SaleType_WD</th>\n",
       "      <th>SaleCondition_Abnorml</th>\n",
       "      <th>SaleCondition_AdjLand</th>\n",
       "      <th>SaleCondition_Alloca</th>\n",
       "      <th>SaleCondition_Family</th>\n",
       "      <th>SaleCondition_Normal</th>\n",
       "      <th>SaleCondition_Partial</th>\n",
       "    </tr>\n",
       "  </thead>\n",
       "  <tbody>\n",
       "    <tr>\n",
       "      <th>447</th>\n",
       "      <td>60</td>\n",
       "      <td>11214</td>\n",
       "      <td>7</td>\n",
       "      <td>5</td>\n",
       "      <td>1998</td>\n",
       "      <td>1999</td>\n",
       "      <td>0</td>\n",
       "      <td>0</td>\n",
       "      <td>930</td>\n",
       "      <td>930</td>\n",
       "      <td>...</td>\n",
       "      <td>0</td>\n",
       "      <td>0</td>\n",
       "      <td>0</td>\n",
       "      <td>1</td>\n",
       "      <td>0</td>\n",
       "      <td>0</td>\n",
       "      <td>0</td>\n",
       "      <td>0</td>\n",
       "      <td>1</td>\n",
       "      <td>0</td>\n",
       "    </tr>\n",
       "    <tr>\n",
       "      <th>756</th>\n",
       "      <td>60</td>\n",
       "      <td>10769</td>\n",
       "      <td>8</td>\n",
       "      <td>5</td>\n",
       "      <td>2007</td>\n",
       "      <td>2007</td>\n",
       "      <td>20</td>\n",
       "      <td>0</td>\n",
       "      <td>846</td>\n",
       "      <td>866</td>\n",
       "      <td>...</td>\n",
       "      <td>0</td>\n",
       "      <td>0</td>\n",
       "      <td>0</td>\n",
       "      <td>1</td>\n",
       "      <td>0</td>\n",
       "      <td>0</td>\n",
       "      <td>0</td>\n",
       "      <td>0</td>\n",
       "      <td>1</td>\n",
       "      <td>0</td>\n",
       "    </tr>\n",
       "    <tr>\n",
       "      <th>1091</th>\n",
       "      <td>160</td>\n",
       "      <td>2160</td>\n",
       "      <td>7</td>\n",
       "      <td>5</td>\n",
       "      <td>1999</td>\n",
       "      <td>2000</td>\n",
       "      <td>510</td>\n",
       "      <td>0</td>\n",
       "      <td>90</td>\n",
       "      <td>600</td>\n",
       "      <td>...</td>\n",
       "      <td>0</td>\n",
       "      <td>0</td>\n",
       "      <td>0</td>\n",
       "      <td>1</td>\n",
       "      <td>0</td>\n",
       "      <td>0</td>\n",
       "      <td>0</td>\n",
       "      <td>0</td>\n",
       "      <td>1</td>\n",
       "      <td>0</td>\n",
       "    </tr>\n",
       "    <tr>\n",
       "      <th>1282</th>\n",
       "      <td>20</td>\n",
       "      <td>8800</td>\n",
       "      <td>5</td>\n",
       "      <td>7</td>\n",
       "      <td>1977</td>\n",
       "      <td>2008</td>\n",
       "      <td>532</td>\n",
       "      <td>144</td>\n",
       "      <td>364</td>\n",
       "      <td>1040</td>\n",
       "      <td>...</td>\n",
       "      <td>0</td>\n",
       "      <td>0</td>\n",
       "      <td>0</td>\n",
       "      <td>1</td>\n",
       "      <td>0</td>\n",
       "      <td>0</td>\n",
       "      <td>0</td>\n",
       "      <td>0</td>\n",
       "      <td>1</td>\n",
       "      <td>0</td>\n",
       "    </tr>\n",
       "    <tr>\n",
       "      <th>877</th>\n",
       "      <td>60</td>\n",
       "      <td>8834</td>\n",
       "      <td>9</td>\n",
       "      <td>5</td>\n",
       "      <td>2004</td>\n",
       "      <td>2005</td>\n",
       "      <td>1170</td>\n",
       "      <td>0</td>\n",
       "      <td>292</td>\n",
       "      <td>1462</td>\n",
       "      <td>...</td>\n",
       "      <td>0</td>\n",
       "      <td>0</td>\n",
       "      <td>0</td>\n",
       "      <td>1</td>\n",
       "      <td>0</td>\n",
       "      <td>0</td>\n",
       "      <td>0</td>\n",
       "      <td>0</td>\n",
       "      <td>1</td>\n",
       "      <td>0</td>\n",
       "    </tr>\n",
       "    <tr>\n",
       "      <th>...</th>\n",
       "      <td>...</td>\n",
       "      <td>...</td>\n",
       "      <td>...</td>\n",
       "      <td>...</td>\n",
       "      <td>...</td>\n",
       "      <td>...</td>\n",
       "      <td>...</td>\n",
       "      <td>...</td>\n",
       "      <td>...</td>\n",
       "      <td>...</td>\n",
       "      <td>...</td>\n",
       "      <td>...</td>\n",
       "      <td>...</td>\n",
       "      <td>...</td>\n",
       "      <td>...</td>\n",
       "      <td>...</td>\n",
       "      <td>...</td>\n",
       "      <td>...</td>\n",
       "      <td>...</td>\n",
       "      <td>...</td>\n",
       "      <td>...</td>\n",
       "    </tr>\n",
       "    <tr>\n",
       "      <th>707</th>\n",
       "      <td>120</td>\n",
       "      <td>6240</td>\n",
       "      <td>8</td>\n",
       "      <td>5</td>\n",
       "      <td>2006</td>\n",
       "      <td>2006</td>\n",
       "      <td>863</td>\n",
       "      <td>0</td>\n",
       "      <td>461</td>\n",
       "      <td>1324</td>\n",
       "      <td>...</td>\n",
       "      <td>0</td>\n",
       "      <td>0</td>\n",
       "      <td>0</td>\n",
       "      <td>1</td>\n",
       "      <td>0</td>\n",
       "      <td>0</td>\n",
       "      <td>0</td>\n",
       "      <td>0</td>\n",
       "      <td>1</td>\n",
       "      <td>0</td>\n",
       "    </tr>\n",
       "    <tr>\n",
       "      <th>1425</th>\n",
       "      <td>20</td>\n",
       "      <td>10721</td>\n",
       "      <td>6</td>\n",
       "      <td>6</td>\n",
       "      <td>1959</td>\n",
       "      <td>1959</td>\n",
       "      <td>0</td>\n",
       "      <td>0</td>\n",
       "      <td>1252</td>\n",
       "      <td>1252</td>\n",
       "      <td>...</td>\n",
       "      <td>0</td>\n",
       "      <td>0</td>\n",
       "      <td>0</td>\n",
       "      <td>1</td>\n",
       "      <td>0</td>\n",
       "      <td>0</td>\n",
       "      <td>0</td>\n",
       "      <td>0</td>\n",
       "      <td>1</td>\n",
       "      <td>0</td>\n",
       "    </tr>\n",
       "    <tr>\n",
       "      <th>993</th>\n",
       "      <td>60</td>\n",
       "      <td>8846</td>\n",
       "      <td>6</td>\n",
       "      <td>5</td>\n",
       "      <td>2005</td>\n",
       "      <td>2006</td>\n",
       "      <td>0</td>\n",
       "      <td>0</td>\n",
       "      <td>750</td>\n",
       "      <td>750</td>\n",
       "      <td>...</td>\n",
       "      <td>0</td>\n",
       "      <td>0</td>\n",
       "      <td>1</td>\n",
       "      <td>0</td>\n",
       "      <td>0</td>\n",
       "      <td>0</td>\n",
       "      <td>0</td>\n",
       "      <td>0</td>\n",
       "      <td>0</td>\n",
       "      <td>1</td>\n",
       "    </tr>\n",
       "    <tr>\n",
       "      <th>916</th>\n",
       "      <td>20</td>\n",
       "      <td>9000</td>\n",
       "      <td>2</td>\n",
       "      <td>3</td>\n",
       "      <td>1949</td>\n",
       "      <td>1950</td>\n",
       "      <td>50</td>\n",
       "      <td>0</td>\n",
       "      <td>430</td>\n",
       "      <td>480</td>\n",
       "      <td>...</td>\n",
       "      <td>0</td>\n",
       "      <td>0</td>\n",
       "      <td>0</td>\n",
       "      <td>1</td>\n",
       "      <td>1</td>\n",
       "      <td>0</td>\n",
       "      <td>0</td>\n",
       "      <td>0</td>\n",
       "      <td>0</td>\n",
       "      <td>0</td>\n",
       "    </tr>\n",
       "    <tr>\n",
       "      <th>263</th>\n",
       "      <td>50</td>\n",
       "      <td>5500</td>\n",
       "      <td>5</td>\n",
       "      <td>7</td>\n",
       "      <td>1929</td>\n",
       "      <td>2001</td>\n",
       "      <td>234</td>\n",
       "      <td>692</td>\n",
       "      <td>0</td>\n",
       "      <td>926</td>\n",
       "      <td>...</td>\n",
       "      <td>0</td>\n",
       "      <td>0</td>\n",
       "      <td>0</td>\n",
       "      <td>1</td>\n",
       "      <td>0</td>\n",
       "      <td>0</td>\n",
       "      <td>0</td>\n",
       "      <td>0</td>\n",
       "      <td>1</td>\n",
       "      <td>0</td>\n",
       "    </tr>\n",
       "  </tbody>\n",
       "</table>\n",
       "<p>1022 rows × 207 columns</p>\n",
       "</div>"
      ],
      "text/plain": [
       "      MSSubClass  LotArea  OverallQual  OverallCond  YearBuilt  YearRemodAdd  \\\n",
       "447           60    11214            7            5       1998          1999   \n",
       "756           60    10769            8            5       2007          2007   \n",
       "1091         160     2160            7            5       1999          2000   \n",
       "1282          20     8800            5            7       1977          2008   \n",
       "877           60     8834            9            5       2004          2005   \n",
       "...          ...      ...          ...          ...        ...           ...   \n",
       "707          120     6240            8            5       2006          2006   \n",
       "1425          20    10721            6            6       1959          1959   \n",
       "993           60     8846            6            5       2005          2006   \n",
       "916           20     9000            2            3       1949          1950   \n",
       "263           50     5500            5            7       1929          2001   \n",
       "\n",
       "      BsmtFinSF1  BsmtFinSF2  BsmtUnfSF  TotalBsmtSF  ...  SaleType_ConLI  \\\n",
       "447            0           0        930          930  ...               0   \n",
       "756           20           0        846          866  ...               0   \n",
       "1091         510           0         90          600  ...               0   \n",
       "1282         532         144        364         1040  ...               0   \n",
       "877         1170           0        292         1462  ...               0   \n",
       "...          ...         ...        ...          ...  ...             ...   \n",
       "707          863           0        461         1324  ...               0   \n",
       "1425           0           0       1252         1252  ...               0   \n",
       "993            0           0        750          750  ...               0   \n",
       "916           50           0        430          480  ...               0   \n",
       "263          234         692          0          926  ...               0   \n",
       "\n",
       "      SaleType_ConLw  SaleType_New  SaleType_WD  SaleCondition_Abnorml  \\\n",
       "447                0             0            1                      0   \n",
       "756                0             0            1                      0   \n",
       "1091               0             0            1                      0   \n",
       "1282               0             0            1                      0   \n",
       "877                0             0            1                      0   \n",
       "...              ...           ...          ...                    ...   \n",
       "707                0             0            1                      0   \n",
       "1425               0             0            1                      0   \n",
       "993                0             1            0                      0   \n",
       "916                0             0            1                      1   \n",
       "263                0             0            1                      0   \n",
       "\n",
       "      SaleCondition_AdjLand  SaleCondition_Alloca  SaleCondition_Family  \\\n",
       "447                       0                     0                     0   \n",
       "756                       0                     0                     0   \n",
       "1091                      0                     0                     0   \n",
       "1282                      0                     0                     0   \n",
       "877                       0                     0                     0   \n",
       "...                     ...                   ...                   ...   \n",
       "707                       0                     0                     0   \n",
       "1425                      0                     0                     0   \n",
       "993                       0                     0                     0   \n",
       "916                       0                     0                     0   \n",
       "263                       0                     0                     0   \n",
       "\n",
       "      SaleCondition_Normal  SaleCondition_Partial  \n",
       "447                      1                      0  \n",
       "756                      1                      0  \n",
       "1091                     1                      0  \n",
       "1282                     1                      0  \n",
       "877                      1                      0  \n",
       "...                    ...                    ...  \n",
       "707                      1                      0  \n",
       "1425                     1                      0  \n",
       "993                      0                      1  \n",
       "916                      0                      0  \n",
       "263                      1                      0  \n",
       "\n",
       "[1022 rows x 207 columns]"
      ]
     },
     "metadata": {},
     "output_type": "display_data"
    }
   ],
   "source": [
    "X_train = pd.DataFrame(X_train)\n",
    "X_test = pd.DataFrame(X_test)\n",
    "y_train = pd.DataFrame(y_train)\n",
    "y_test = pd.DataFrame(y_test)\n",
    "\n",
    "# encoding categorical data and scaling\n",
    "listOfCategorica = ['MSZoning', 'Street', 'Alley', 'LotShape', \n",
    "                    'LandContour', 'Utilities', 'LotConfig', \n",
    "                    'LandSlope', 'Neighborhood', 'Condition1', 'Condition2', \n",
    "                    'BldgType', 'HouseStyle',  'RoofStyle', 'RoofMatl', \n",
    "                    'Exterior1st', 'Exterior2nd', 'MasVnrType',  \n",
    "                    'Foundation',  'Heating', 'CentralAir', 'Electrical', 'SaleType',\n",
    "                    'SaleCondition', 'MiscFeature', 'PavedDrive', \n",
    "                   'GarageType', 'MSSubClass']\n",
    "listOfNumericals = ['OverallQual', 'OverallCond', \n",
    "                    'KitchenQual', 'BsmtQual', 'BsmtCond', \n",
    "                    'BsmtExposure', 'HeatingQC', 'BsmtFinType1','BsmtFinType2',\n",
    "                    'ExterQual', 'ExterCond', 'PoolQC', 'Fence', 'GarageCond', \n",
    "                   'GarageQual', 'GarageFinish', 'FireplaceQu', \n",
    "                   'Functional', 'MSSubClass']\n",
    "listOfContinuous = ['LotFrontage', 'LotArea', 'YearBuilt', 'YearRemodAdd',\n",
    "                    'MasVnrArea', 'BsmtFinSF1', 'BsmtFinSF2', 'BsmtUnfSF', \n",
    "                    'TotalBsmtSF','1stFlrSF','2ndFlrSF','LowQualFinSF',\n",
    "                    'GrLivArea', 'BsmtFullBath', 'BsmtHalfBath', 'FullBath',\n",
    "                    'HalfBath', 'Bedroom', 'Kitchen', 'YrSold', 'MoSold', 'MiscVal',\n",
    "                    'PoolArea', 'ScreenPorch', '3SsnPorch', 'EnclosedPorch',\n",
    "                    'OpenPorchSF', 'WoodDeckSF', 'GarageArea', 'GarageCars',\n",
    "                   'GarageYrBlt', 'Fireplaces', 'TotRmsAbvGrd', 'KitchenAbvGr',\n",
    "                   'BedroomAbvGr']\n",
    "\n",
    "listOfNumericalOrder = [[1, 2, 3, 4, 5, 6, 7, 8, 9, 10],\n",
    "                        [1, 2, 3, 4, 5, 6, 7, 8, 9, 10], \n",
    "                        ['Po', 'Fa', 'TA', 'Gd', 'Ex'],\n",
    "                        ['NA', 'Po', 'Fa', 'TA', 'Gd', 'Ex'], \n",
    "                        ['NA', 'Po', 'Fa', 'TA', 'Gd', 'Ex'],\n",
    "                        ['NA', 'Po', 'Fa', 'TA', 'Gd', 'Ex'],\n",
    "                        ['Po', 'Fa', 'TA', 'Gd', 'Ex'],\n",
    "                        ['NA', 'Unf', 'LwQ', 'Rec', 'BLQ', 'ALQ', 'GLQ'],\n",
    "                        ['NA', 'Unf', 'LwQ', 'Rec', 'BLQ', 'ALQ', 'GLQ'],\n",
    "                        ['Po', 'Fa', 'TA', 'Gd', 'Ex'],\n",
    "                        ['Po', 'Fa', 'TA', 'Gd', 'Ex'],\n",
    "                        ['NA', 'Po', 'Fa', 'TA', 'Gd', 'Ex'],\n",
    "                        ['NA', 'MnWw', 'GdWo', 'MnPrv', 'GdPrv'],\n",
    "                        ['NA', 'Po', 'Fa', 'TA', 'Gd', 'Ex'], \n",
    "                        ['NA', 'Po', 'Fa', 'TA', 'Gd', 'Ex'],\n",
    "                        ['NA', 'Unf', 'RFn', 'Fin'],\n",
    "                        ['NA', 'Po', 'Fa', 'TA', 'Gd', 'Ex'], \n",
    "                        ['Sal', 'Sev', 'Maj2', 'Maj1', 'Mod', 'Min2', 'Min1', 'Typ']\n",
    "                       ]\n",
    "                        \n",
    "# one-hot encoding\n",
    "X_train = pd.get_dummies(X_train)\n",
    "X_test = pd.get_dummies(X_test)\n",
    "\n",
    "# one hot encoding\n",
    "from sklearn.preprocessing import OrdinalEncoder\n",
    "from sklearn.preprocessing import StandardScaler\n",
    "encoders = [] # also scalers\n",
    "\n",
    "for label in labels:\n",
    "    if label in listOfNumericals and label in listT: \n",
    "        enc = OrdinalEncoder()\n",
    "        enc.fit(df[[label]])\n",
    "        \n",
    "        transformed1 = enc.transform(X_test[[label]])\n",
    "        transformed2 = enc.transform(X_train[[label]])\n",
    "        \n",
    "        X_test[label] = transformed1\n",
    "        X_train[label] = transformed2\n",
    "        \n",
    "    elif label in listOfContinuous and label in listT: # scaling here\n",
    "        # based on https://stackabuse.com/dimensionality-reduction-in-python-with-scikit-learn/\n",
    "        scaler = StandardScaler()\n",
    "        scaler = scaler.fit(X_train[[label]])\n",
    "        \n",
    "        transformed1 = scaler.transform(X_test[[label]])\n",
    "        transformed2 = scaler.transform(X_train[[label]])\n",
    "        \n",
    "        X_test[label] = transformed1\n",
    "        X_train[label] = transformed2\n",
    "        \n",
    "display(X_train)"
   ]
  },
  {
   "cell_type": "markdown",
   "id": "3424e3a3",
   "metadata": {},
   "source": [
    "As you can see, I fitted the encoders with the entire data set, not just the training set. I believe that this is not data leakage, as usually, *ALL* possible categories would be known, so even if the training set doesn't contain a data set, the categories are known to the people developing this data analysis. I ran it on the whole data set, so I wouldn't need to go through each category and manually write down all categories (as I don't have time for that, sorry.)"
   ]
  },
  {
   "cell_type": "code",
   "execution_count": 233,
   "id": "a2df8a31",
   "metadata": {},
   "outputs": [
    {
     "name": "stderr",
     "output_type": "stream",
     "text": [
      "C:\\Users\\Ella\\AppData\\Local\\Temp\\ipykernel_17956\\3020564066.py:6: PerformanceWarning: DataFrame is highly fragmented.  This is usually the result of calling `frame.insert` many times, which has poor performance.  Consider joining all columns at once using pd.concat(axis=1) instead. To get a de-fragmented frame, use `newframe = frame.copy()`\n",
      "  result.insert(len(result.columns), \"SalePrice\", resul2[\"SalePrice\"])\n"
     ]
    }
   ],
   "source": [
    "# export!\n",
    "\n",
    "result = pd.concat([X_train, X_test], axis=0)\n",
    "resul2 = pd.concat([y_train, y_test], axis=0)\n",
    "\n",
    "result.insert(len(result.columns), \"SalePrice\", resul2[\"SalePrice\"])\n",
    "\n",
    "result.to_csv('changed.csv', index=False)  "
   ]
  },
  {
   "cell_type": "markdown",
   "id": "f2903ca9",
   "metadata": {},
   "source": [
    "**Utilise two different dimensionality reduction techniques to identify which features are irrelevant\n",
    "and/or redundant to predicting the house price. Report the dimension reduction process and remove redundant/irrelevant data. Show the process in your code/workflow.**"
   ]
  },
  {
   "cell_type": "code",
   "execution_count": 236,
   "id": "cfcef078",
   "metadata": {},
   "outputs": [
    {
     "data": {
      "image/png": "[encoded data removed]",
      "text/plain": [
       "<Figure size 576x432 with 1 Axes>"
      ]
     },
     "metadata": {
      "needs_background": "light"
     },
     "output_type": "display_data"
    }
   ],
   "source": [
    "# dimensionality reduction technique #1\n"
   ]
  },
  {
   "cell_type": "code",
   "execution_count": null,
   "id": "af3ad1ac",
   "metadata": {},
   "outputs": [],
   "source": [
    "# dimensionality reduction technique #2\n"
   ]
  },
  {
   "cell_type": "markdown",
   "id": "1ef1c241",
   "metadata": {},
   "source": [
    "**Now approach data mining goals on your preprocessed data using machine learning methods.**\n",
    "\n",
    "**(a) With the two groups of features selected in previous question, use the ordinary linear regression and ridge\n",
    "regression (with alpha=0.5 ) for predicting the house prices. Comparing their results regarding the mean\n",
    "squared errors on the training set and the test set. Present and analyse the learnt regression models, and\n",
    "highlight your observations. Submit your code or workflow.**\n"
   ]
  },
  {
   "cell_type": "code",
   "execution_count": null,
   "id": "848d995a",
   "metadata": {},
   "outputs": [],
   "source": [
    "# ordinary linear regression"
   ]
  },
  {
   "cell_type": "code",
   "execution_count": null,
   "id": "504d2e19",
   "metadata": {},
   "outputs": [],
   "source": [
    "# ridge regression (with alpha=0.5 )"
   ]
  },
  {
   "cell_type": "markdown",
   "id": "0329fbfb",
   "metadata": {},
   "source": [
    "**(b) Using Random Forest, which is a more powerful ensemble regression method to predict the house price,\n",
    "compare with the results of linear regression and ridge regression, highlight your observations.**"
   ]
  },
  {
   "cell_type": "code",
   "execution_count": null,
   "id": "beb4be81",
   "metadata": {},
   "outputs": [],
   "source": [
    "# random forest"
   ]
  }
 ],
 "metadata": {
  "kernelspec": {
   "display_name": "Python 3 (ipykernel)",
   "language": "python",
   "name": "python3"
  },
  "language_info": {
   "codemirror_mode": {
    "name": "ipython",
    "version": 3
   },
   "file_extension": ".py",
   "mimetype": "text/x-python",
   "name": "python",
   "nbconvert_exporter": "python",
   "pygments_lexer": "ipython3",
   "version": "3.9.12"
  }
 },
 "nbformat": 4,
 "nbformat_minor": 5
}
